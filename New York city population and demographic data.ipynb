{
    "cells": [
        {
            "cell_type": "markdown",
            "metadata": {},
            "source": "### Problem Statement\nThe objective is to locate and recommend to the client which neighbourhood in New York City will be best choice to start a restaurant.\n\n### New York city population and demographic data\nData source : https://en.wikipedia.org/wiki/New_York_City ; https://en.wikipedia.org/wiki/Demographics_of_New_York_City. Web scraping techniques was used to get NYC population density and demographics data from Wikipedia."
        },
        {
            "cell_type": "code",
            "execution_count": 1,
            "metadata": {},
            "outputs": [
                {
                    "name": "stdout",
                    "output_type": "stream",
                    "text": "Libraries imported.\n"
                }
            ],
            "source": "import pandas as pd\nimport numpy as np\n\npd.set_option('display.max_columns', None)\npd.set_option('display.max_rows', None)\n\nimport requests\nfrom bs4 import BeautifulSoup\nfrom geopy.geocoders import Nominatim # convert an address into latitude and longitude values\n#!conda install -c conda-forge folium\n\nimport os\nimport folium # map rendering library\n# Matplotlib and associated plotting modules\n\nimport matplotlib.pyplot as plt\nimport matplotlib.cm as cm\nimport matplotlib.colors as colors\nimport matplotlib as mp\nimport re\nimport csv\n%matplotlib inline\n\n\nprint('Libraries imported.')"
        },
        {
            "cell_type": "code",
            "execution_count": 2,
            "metadata": {},
            "outputs": [],
            "source": "response_obj = requests.get('https://en.wikipedia.org/wiki/New_York_City').text\nsoup = BeautifulSoup(response_obj,'lxml')\nNeighborhoods_NYC_Table = soup.find('table', {'class':'wikitable sortable'})\n### preparation of the table"
        },
        {
            "cell_type": "code",
            "execution_count": 3,
            "metadata": {},
            "outputs": [
                {
                    "name": "stdout",
                    "output_type": "stream",
                    "text": "[{'borough': 'The Bronx', 'county': 'Bronx', 'population': 1432132.0, 'gdp_billions': 42.695, 'gdp_per_capita': 29200.0, 'land_sqm': 42.1, 'land_sqkm': 109.04, 'persons_sqm': 34653.0, 'persons_sqkm': 13231.0}, {'borough': 'Brooklyn', 'county': 'Kings', 'population': 2582830.0, 'gdp_billions': 91.559, 'gdp_per_capita': 34600.0, 'land_sqm': 70.82, 'land_sqkm': 183.42, 'persons_sqm': 37137.0, 'persons_sqkm': 14649.0}, {'borough': 'Manhattan', 'county': 'New York', 'population': 1628701.0, 'gdp_billions': 600.244, 'gdp_per_capita': 360900.0, 'land_sqm': 22.83, 'land_sqkm': 59.13, 'persons_sqm': 72033.0, 'persons_sqkm': 27826.0}, {'borough': 'Queens', 'county': 'Queens', 'population': 2278906.0, 'gdp_billions': 93.31, 'gdp_per_capita': 39600.0, 'land_sqm': 108.53, 'land_sqkm': 281.09, 'persons_sqm': 21460.0, 'persons_sqkm': 8354.0}, {'borough': 'Staten Island', 'county': 'Richmond', 'population': 476179.0, 'gdp_billions': 14.514, 'gdp_per_capita': 30300.0, 'land_sqm': 58.37, 'land_sqkm': 151.18, 'persons_sqm': 8112.0, 'persons_sqkm': 3132.0}]\n"
                }
            ],
            "source": "rows = Neighborhoods_NYC_Table.select(\"tbody > tr\")[3:8]\n\nboroughs = []\nfor row in rows:\n    borough = {}\n    tds = row.select('td')\n    borough[\"borough\"] = tds[0].text.strip()\n    borough[\"county\"] = tds[1].text.strip()\n    borough[\"population\"] = float(tds[2].text.strip().replace(\",\",\"\"))\n    borough[\"gdp_billions\"] = float(tds[3].text.strip().replace(\",\",\"\"))\n    borough[\"gdp_per_capita\"] = float(tds[4].text.strip().replace(\",\",\"\"))\n    borough[\"land_sqm\"] = float(tds[5].text.strip().replace(\",\",\"\"))\n    borough[\"land_sqkm\"] = float(tds[6].text.strip().replace(\",\",\"\"))\n    borough[\"persons_sqm\"] = float(tds[7].text.strip().replace(\",\",\"\"))\n    borough[\"persons_sqkm\"] = float(tds[8].text.strip().replace(\",\",\"\"))\n    \n    boroughs.append(borough)\n\nprint(boroughs)"
        },
        {
            "cell_type": "code",
            "execution_count": 4,
            "metadata": {},
            "outputs": [
                {
                    "name": "stdout",
                    "output_type": "stream",
                    "text": "[{'jurisdiction': 'Queens', 'population_census': '2,229,379', '%_white': 44.1, '%_black_or_african_amercian': 20.0, '%_Asian': 17.6, '%_other': 12.3, '%_mixed_race': 6.1, '%_hispanic_latino_of_other_race': 25.0, '%_catholic': 37.0, '%_jewish': 5.0}, {'jurisdiction': 'Manhattan', 'population_census': '1,537,195', '%_white': 54.4, '%_black_or_african_amercian': 17.4, '%_Asian': 9.4, '%_other': 14.7, '%_mixed_race': 4.1, '%_hispanic_latino_of_other_race': 27.2, '%_catholic': 11.0, '%_jewish': 9.0}, {'jurisdiction': 'Bronx', 'population_census': '1,332,650', '%_white': 29.9, '%_black_or_african_amercian': 35.6, '%_Asian': 3.0, '%_other': 25.7, '%_mixed_race': 5.8, '%_hispanic_latino_of_other_race': 48.4, '%_catholic': 14.0, '%_jewish': 5.0}, {'jurisdiction': 'Staten Island', 'population_census': '443,728', '%_white': 77.6, '%_black_or_african_amercian': 9.7, '%_Asian': 5.7, '%_other': 4.3, '%_mixed_race': 2.7, '%_hispanic_latino_of_other_race': 12.1, '%_catholic': 11.0, '%_jewish': 5.0}, {'jurisdiction': 'NYC Total', 'population_census': '8,008,278', '%_white': 44.7, '%_black_or_african_amercian': 26.6, '%_Asian': 9.8, '%_other': 14.0, '%_mixed_race': 4.9, '%_hispanic_latino_of_other_race': 27.0, '%_catholic': 17.0, '%_jewish': 6.0}]\n"
                }
            ],
            "source": "response_obj = requests.get('https://en.wikipedia.org/wiki/Demographics_of_New_York_City').text\nsoup = BeautifulSoup(response_obj,'lxml')\nPopulation_Census_Table = soup.select_one('.wikitable:nth-of-type(5)') #use css selector to target correct table.\n\njurisdictions = []\nrows = Population_Census_Table.select(\"tbody > tr\")[3:8]\nfor row in rows:\n    jurisdiction = {}\n    tds = row.select('td')\n    jurisdiction[\"jurisdiction\"] = tds[0].text.strip()\n    jurisdiction[\"population_census\"] = tds[1].text.strip()\n    jurisdiction[\"%_white\"] = float(tds[2].text.strip().replace(\",\",\"\"))\n    jurisdiction[\"%_black_or_african_amercian\"] = float(tds[3].text.strip().replace(\",\",\"\"))\n    jurisdiction[\"%_Asian\"] = float(tds[4].text.strip().replace(\",\",\"\"))\n    jurisdiction[\"%_other\"] = float(tds[5].text.strip().replace(\",\",\"\"))\n    jurisdiction[\"%_mixed_race\"] = float(tds[6].text.strip().replace(\",\",\"\"))\n    jurisdiction[\"%_hispanic_latino_of_other_race\"] = float(tds[7].text.strip().replace(\",\",\"\"))\n    jurisdiction[\"%_catholic\"] = float(tds[10].text.strip().replace(\",\",\"\"))\n    jurisdiction[\"%_jewish\"] = float(tds[12].text.strip().replace(\",\",\"\"))\n    jurisdictions.append(jurisdiction)\nprint(jurisdictions)"
        },
        {
            "cell_type": "code",
            "execution_count": 5,
            "metadata": {},
            "outputs": [
                {
                    "data": {
                        "text/html": "<div>\n<style scoped>\n    .dataframe tbody tr th:only-of-type {\n        vertical-align: middle;\n    }\n\n    .dataframe tbody tr th {\n        vertical-align: top;\n    }\n\n    .dataframe thead th {\n        text-align: right;\n    }\n</style>\n<table border=\"1\" class=\"dataframe\">\n  <thead>\n    <tr style=\"text-align: right;\">\n      <th></th>\n      <th>jurisdiction</th>\n      <th>%_white</th>\n      <th>%_black_or_african_amercian</th>\n      <th>%_Asian</th>\n      <th>%_other</th>\n      <th>%_mixed_race</th>\n      <th>%_hispanic_latino_of_other_race</th>\n    </tr>\n  </thead>\n  <tbody>\n    <tr>\n      <th>0</th>\n      <td>Queens</td>\n      <td>44.1</td>\n      <td>20.0</td>\n      <td>17.6</td>\n      <td>12.3</td>\n      <td>6.1</td>\n      <td>25.0</td>\n    </tr>\n    <tr>\n      <th>1</th>\n      <td>Manhattan</td>\n      <td>54.4</td>\n      <td>17.4</td>\n      <td>9.4</td>\n      <td>14.7</td>\n      <td>4.1</td>\n      <td>27.2</td>\n    </tr>\n    <tr>\n      <th>2</th>\n      <td>Bronx</td>\n      <td>29.9</td>\n      <td>35.6</td>\n      <td>3.0</td>\n      <td>25.7</td>\n      <td>5.8</td>\n      <td>48.4</td>\n    </tr>\n    <tr>\n      <th>3</th>\n      <td>Staten Island</td>\n      <td>77.6</td>\n      <td>9.7</td>\n      <td>5.7</td>\n      <td>4.3</td>\n      <td>2.7</td>\n      <td>12.1</td>\n    </tr>\n    <tr>\n      <th>4</th>\n      <td>NYC Total</td>\n      <td>44.7</td>\n      <td>26.6</td>\n      <td>9.8</td>\n      <td>14.0</td>\n      <td>4.9</td>\n      <td>27.0</td>\n    </tr>\n  </tbody>\n</table>\n</div>",
                        "text/plain": "    jurisdiction  %_white  %_black_or_african_amercian  %_Asian  %_other  \\\n0         Queens     44.1                         20.0     17.6     12.3   \n1      Manhattan     54.4                         17.4      9.4     14.7   \n2          Bronx     29.9                         35.6      3.0     25.7   \n3  Staten Island     77.6                          9.7      5.7      4.3   \n4      NYC Total     44.7                         26.6      9.8     14.0   \n\n   %_mixed_race  %_hispanic_latino_of_other_race  \n0           6.1                             25.0  \n1           4.1                             27.2  \n2           5.8                             48.4  \n3           2.7                             12.1  \n4           4.9                             27.0  "
                    },
                    "execution_count": 5,
                    "metadata": {},
                    "output_type": "execute_result"
                }
            ],
            "source": "df = pd.DataFrame(jurisdictions, columns=[\"jurisdiction\",\"%_white\", \"%_black_or_african_amercian\", \"%_Asian\", \"%_other\", \"%_mixed_race\", \"%_hispanic_latino_of_other_race\"])\ndf.head()"
        },
        {
            "cell_type": "markdown",
            "metadata": {},
            "source": "Preliminary findings\nQueens is the second most populous urban area in New York City (NYC), behind Brooklyn.\n\n However, with that being said, it is the most ethnically diverse urban area in NYC with the highest Asian ethnic minority population. \n\nDespite the fact that Manhattan is the third most populous urban area in New York City (NYC), it has a population density of 27826 people per square km, making it highest of any borough in the United States.\n\n It has the second highest Asian ethnic minority population in NYC.\n\n\n"
        },
        {
            "cell_type": "code",
            "execution_count": null,
            "metadata": {},
            "outputs": [],
            "source": ""
        }
    ],
    "metadata": {
        "kernelspec": {
            "display_name": "Python 3.6",
            "language": "python",
            "name": "python3"
        },
        "language_info": {
            "codemirror_mode": {
                "name": "ipython",
                "version": 3
            },
            "file_extension": ".py",
            "mimetype": "text/x-python",
            "name": "python",
            "nbconvert_exporter": "python",
            "pygments_lexer": "ipython3",
            "version": "3.6.9"
        }
    },
    "nbformat": 4,
    "nbformat_minor": 1
}